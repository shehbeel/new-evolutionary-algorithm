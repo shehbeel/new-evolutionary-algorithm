{
  "nbformat": 4,
  "nbformat_minor": 0,
  "metadata": {
    "colab": {
      "name": "EvolutionaryAlgorithm.ipynb",
      "provenance": [],
      "authorship_tag": "ABX9TyPh9CgH2TEhO/r/mFSKVmAR",
      "include_colab_link": true
    },
    "kernelspec": {
      "name": "python3",
      "display_name": "Python 3"
    }
  },
  "cells": [
    {
      "cell_type": "markdown",
      "metadata": {
        "id": "view-in-github",
        "colab_type": "text"
      },
      "source": [
        "<a href=\"https://colab.research.google.com/github/shehbeel/new-evolutionary-algorithm/blob/master/EvolutionaryAlgorithm.ipynb\" target=\"_parent\"><img src=\"https://colab.research.google.com/assets/colab-badge.svg\" alt=\"Open In Colab\"/></a>"
      ]
    },
    {
      "cell_type": "markdown",
      "metadata": {
        "id": "xcMdltqaInIe",
        "colab_type": "text"
      },
      "source": [
        "#**\"Nature vs Nurture in Economics**\n",
        "##Applying the Breeder's Equation to the Stock Market to predict how a stock's price (trait) will evolve over the years, and to see if there is any directional selection and the notion of heredity at play."
      ]
    },
    {
      "cell_type": "markdown",
      "metadata": {
        "id": "fTDkKs15IoZU",
        "colab_type": "text"
      },
      "source": [
        "###Source of Data: https://www.kaggle.com/borismarjanovic/price-volume-data-for-all-us-stocks-etfs"
      ]
    },
    {
      "cell_type": "code",
      "metadata": {
        "id": "WA3-vPfkBzNU",
        "colab_type": "code",
        "colab": {}
      },
      "source": [
        "import numpy as np\n",
        "import pandas as pd\n",
        "import matplotlib.pyplot as plt"
      ],
      "execution_count": 4,
      "outputs": []
    },
    {
      "cell_type": "code",
      "metadata": {
        "id": "srJBPoXoVeja",
        "colab_type": "code",
        "colab": {
          "resources": {
            "http://localhost:8080/nbextensions/google.colab/files.js": {
              "data": "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",
              "ok": true,
              "headers": [
                [
                  "content-type",
                  "application/javascript"
                ]
              ],
              "status": 200,
              "status_text": ""
            }
          },
          "base_uri": "https://localhost:8080/",
          "height": 174
        },
        "outputId": "b19685a6-5ea2-4175-87b1-6b9a47b92156"
      },
      "source": [
        "from google.colab import files\n",
        "uploaded = files.upload()"
      ],
      "execution_count": 3,
      "outputs": [
        {
          "output_type": "display_data",
          "data": {
            "text/html": [
              "\n",
              "     <input type=\"file\" id=\"files-bd8044da-1af3-468f-8e40-b5ad01de339b\" name=\"files[]\" multiple disabled\n",
              "        style=\"border:none\" />\n",
              "     <output id=\"result-bd8044da-1af3-468f-8e40-b5ad01de339b\">\n",
              "      Upload widget is only available when the cell has been executed in the\n",
              "      current browser session. Please rerun this cell to enable.\n",
              "      </output>\n",
              "      <script src=\"/nbextensions/google.colab/files.js\"></script> "
            ],
            "text/plain": [
              "<IPython.core.display.HTML object>"
            ]
          },
          "metadata": {
            "tags": []
          }
        },
        {
          "output_type": "stream",
          "text": [
            "Saving aapl.us.txt to aapl.us (1).txt\n",
            "Saving ba.us.txt to ba.us.txt\n",
            "Saving fslr.us.txt to fslr.us.txt\n",
            "Saving ino.us.txt to ino.us.txt\n"
          ],
          "name": "stdout"
        }
      ]
    },
    {
      "cell_type": "code",
      "metadata": {
        "id": "R6OKF5c-EIzK",
        "colab_type": "code",
        "colab": {}
      },
      "source": [
        "aapl = pd.read_csv('aapl.us.txt')\n",
        "ba = pd.read_csv('ba.us.txt')\n",
        "fslr = pd.read_csv('fslr.us.txt')\n",
        "ino = pd.read_csv('ino.us.txt')"
      ],
      "execution_count": 11,
      "outputs": []
    },
    {
      "cell_type": "markdown",
      "metadata": {
        "id": "ucyYghucINQq",
        "colab_type": "text"
      },
      "source": [
        "# **Directional Selection in Stock Prices**"
      ]
    },
    {
      "cell_type": "markdown",
      "metadata": {
        "id": "8c05D9doQBKh",
        "colab_type": "text"
      },
      "source": [
        "###**Notes:**\n",
        "#####Experimenting with two ways of getting **relative fitness**:\n",
        "\n",
        "1.   **Slope** of Daily Price\n",
        "2.   **Close/Open** Ratio of Daily Price\n",
        "\n",
        "#####The phenotypic trait we are interested in is **stock price**."
      ]
    },
    {
      "cell_type": "code",
      "metadata": {
        "id": "IJbjnoQDufRU",
        "colab_type": "code",
        "colab": {
          "base_uri": "https://localhost:8080/",
          "height": 204
        },
        "outputId": "1a5a9871-0de7-4802-de49-c86930810511"
      },
      "source": [
        "aapl['individual_slope'] = aapl['Close'] - aapl['Open']\n",
        "aapl['mean_slope'] = aapl['individual_slope'].sum(axis=0) / len(aapl.columns)\n",
        "aapl['relative_slope'] = aapl['individual_slope'] / aapl['mean_slope']\n",
        "aapl['close/open'] = aapl['Close'] / aapl['Open']\n",
        "aapl['close/open_mean'] = aapl['close/open'].sum(axis=0) / len(aapl.columns)\n",
        "aapl['close/open_relative'] = aapl['close/open'] / aapl['close/open_mean']\n",
        "aapl.head()"
      ],
      "execution_count": 19,
      "outputs": [
        {
          "output_type": "execute_result",
          "data": {
            "text/html": [
              "<div>\n",
              "<style scoped>\n",
              "    .dataframe tbody tr th:only-of-type {\n",
              "        vertical-align: middle;\n",
              "    }\n",
              "\n",
              "    .dataframe tbody tr th {\n",
              "        vertical-align: top;\n",
              "    }\n",
              "\n",
              "    .dataframe thead th {\n",
              "        text-align: right;\n",
              "    }\n",
              "</style>\n",
              "<table border=\"1\" class=\"dataframe\">\n",
              "  <thead>\n",
              "    <tr style=\"text-align: right;\">\n",
              "      <th></th>\n",
              "      <th>Date</th>\n",
              "      <th>Open</th>\n",
              "      <th>High</th>\n",
              "      <th>Low</th>\n",
              "      <th>Close</th>\n",
              "      <th>Volume</th>\n",
              "      <th>OpenInt</th>\n",
              "      <th>individual_slope</th>\n",
              "      <th>mean_slope</th>\n",
              "      <th>relative_slope</th>\n",
              "      <th>close/open</th>\n",
              "      <th>close/open_mean</th>\n",
              "      <th>close/open_relative</th>\n",
              "    </tr>\n",
              "  </thead>\n",
              "  <tbody>\n",
              "    <tr>\n",
              "      <th>0</th>\n",
              "      <td>1984-09-07</td>\n",
              "      <td>0.42388</td>\n",
              "      <td>0.42902</td>\n",
              "      <td>0.41874</td>\n",
              "      <td>0.42388</td>\n",
              "      <td>23220030</td>\n",
              "      <td>0</td>\n",
              "      <td>0.00000</td>\n",
              "      <td>-2.322491</td>\n",
              "      <td>-0.000000</td>\n",
              "      <td>1.000000</td>\n",
              "      <td>696.882703</td>\n",
              "      <td>0.001435</td>\n",
              "    </tr>\n",
              "    <tr>\n",
              "      <th>1</th>\n",
              "      <td>1984-09-10</td>\n",
              "      <td>0.42388</td>\n",
              "      <td>0.42516</td>\n",
              "      <td>0.41366</td>\n",
              "      <td>0.42134</td>\n",
              "      <td>18022532</td>\n",
              "      <td>0</td>\n",
              "      <td>-0.00254</td>\n",
              "      <td>-2.322491</td>\n",
              "      <td>0.001094</td>\n",
              "      <td>0.994008</td>\n",
              "      <td>696.882703</td>\n",
              "      <td>0.001426</td>\n",
              "    </tr>\n",
              "    <tr>\n",
              "      <th>2</th>\n",
              "      <td>1984-09-11</td>\n",
              "      <td>0.42516</td>\n",
              "      <td>0.43668</td>\n",
              "      <td>0.42516</td>\n",
              "      <td>0.42902</td>\n",
              "      <td>42498199</td>\n",
              "      <td>0</td>\n",
              "      <td>0.00386</td>\n",
              "      <td>-2.322491</td>\n",
              "      <td>-0.001662</td>\n",
              "      <td>1.009079</td>\n",
              "      <td>696.882703</td>\n",
              "      <td>0.001448</td>\n",
              "    </tr>\n",
              "    <tr>\n",
              "      <th>3</th>\n",
              "      <td>1984-09-12</td>\n",
              "      <td>0.42902</td>\n",
              "      <td>0.43157</td>\n",
              "      <td>0.41618</td>\n",
              "      <td>0.41618</td>\n",
              "      <td>37125801</td>\n",
              "      <td>0</td>\n",
              "      <td>-0.01284</td>\n",
              "      <td>-2.322491</td>\n",
              "      <td>0.005529</td>\n",
              "      <td>0.970071</td>\n",
              "      <td>696.882703</td>\n",
              "      <td>0.001392</td>\n",
              "    </tr>\n",
              "    <tr>\n",
              "      <th>4</th>\n",
              "      <td>1984-09-13</td>\n",
              "      <td>0.43927</td>\n",
              "      <td>0.44052</td>\n",
              "      <td>0.43927</td>\n",
              "      <td>0.43927</td>\n",
              "      <td>57822062</td>\n",
              "      <td>0</td>\n",
              "      <td>0.00000</td>\n",
              "      <td>-2.322491</td>\n",
              "      <td>-0.000000</td>\n",
              "      <td>1.000000</td>\n",
              "      <td>696.882703</td>\n",
              "      <td>0.001435</td>\n",
              "    </tr>\n",
              "  </tbody>\n",
              "</table>\n",
              "</div>"
            ],
            "text/plain": [
              "         Date     Open  ...  close/open_mean  close/open_relative\n",
              "0  1984-09-07  0.42388  ...       696.882703             0.001435\n",
              "1  1984-09-10  0.42388  ...       696.882703             0.001426\n",
              "2  1984-09-11  0.42516  ...       696.882703             0.001448\n",
              "3  1984-09-12  0.42902  ...       696.882703             0.001392\n",
              "4  1984-09-13  0.43927  ...       696.882703             0.001435\n",
              "\n",
              "[5 rows x 13 columns]"
            ]
          },
          "metadata": {
            "tags": []
          },
          "execution_count": 19
        }
      ]
    },
    {
      "cell_type": "markdown",
      "metadata": {
        "id": "boUn36KFRX1G",
        "colab_type": "text"
      },
      "source": [
        "#####**Correlation Between relative_slope and Stock Close Price**"
      ]
    },
    {
      "cell_type": "code",
      "metadata": {
        "id": "LgxiYPhfRkEG",
        "colab_type": "code",
        "colab": {
          "base_uri": "https://localhost:8080/",
          "height": 329
        },
        "outputId": "1a58e84c-498a-4457-c48a-772c24aa3b83"
      },
      "source": [
        "x = aapl['Close']\n",
        "y = aapl['relative_slope']\n",
        "\n",
        "m, b = np.polyfit(x, y, 1)\n",
        "\n",
        "plt.scatter(x, y)\n",
        "plt.title(\"Relative_Slope vs Stock Price\")\n",
        "plt.xlabel(\"Stock Price\")\n",
        "plt.ylabel(\"Relative Slope\")\n",
        "\n",
        "plt.plot(x, m*x + b, color='red')\n",
        "print(\"y =\" + str(m) + \"*x\" + \"+\" + str(b))\n",
        "\n",
        "plt.show"
      ],
      "execution_count": 26,
      "outputs": [
        {
          "output_type": "stream",
          "text": [
            "y =-5.443168530631176e-05*x+0.002647513591119287\n"
          ],
          "name": "stdout"
        },
        {
          "output_type": "execute_result",
          "data": {
            "text/plain": [
              "<function matplotlib.pyplot.show>"
            ]
          },
          "metadata": {
            "tags": []
          },
          "execution_count": 26
        },
        {
          "output_type": "display_data",
          "data": {
            "image/png": "[encoded data removed]",
            "text/plain": [
              "<Figure size 432x288 with 1 Axes>"
            ]
          },
          "metadata": {
            "tags": [],
            "needs_background": "light"
          }
        }
      ]
    },
    {
      "cell_type": "markdown",
      "metadata": {
        "id": "VlmJ_rDHRkOo",
        "colab_type": "text"
      },
      "source": [
        "#####**Correlation Between close/open_relative and Stock Close Price**"
      ]
    },
    {
      "cell_type": "code",
      "metadata": {
        "id": "0esD2h6aOPcl",
        "colab_type": "code",
        "colab": {
          "base_uri": "https://localhost:8080/",
          "height": 329
        },
        "outputId": "db599a0a-0b66-46c8-e2ac-841c92726476"
      },
      "source": [
        "x = aapl['Close']\n",
        "y = aapl['close/open_relative']\n",
        "m, b = np.polyfit(x, y, 1)\n",
        "\n",
        "plt.scatter(x, y)\n",
        "plt.title(\"Close/Open Relative vs Stock Price\")\n",
        "plt.xlabel(\"Stock Price\")\n",
        "plt.ylabel(\"Relative Close/Open\")\n",
        "\n",
        "plt.plot(x, m*x + b, color='red')\n",
        "print(\"y =\" + str(m) + \"*x\" + \"+\" + str(b))\n",
        "\n",
        "plt.show"
      ],
      "execution_count": 25,
      "outputs": [
        {
          "output_type": "stream",
          "text": [
            "y =5.076727617753614e-09*x+0.0014346071148956664\n"
          ],
          "name": "stdout"
        },
        {
          "output_type": "execute_result",
          "data": {
            "text/plain": [
              "<function matplotlib.pyplot.show>"
            ]
          },
          "metadata": {
            "tags": []
          },
          "execution_count": 25
        },
        {
          "output_type": "display_data",
          "data": {
            "image/png": "[encoded data removed]",
            "text/plain": [
              "<Figure size 432x288 with 1 Axes>"
            ]
          },
          "metadata": {
            "tags": [],
            "needs_background": "light"
          }
        }
      ]
    },
    {
      "cell_type": "markdown",
      "metadata": {
        "id": "ZzxX3YgWWAvs",
        "colab_type": "text"
      },
      "source": [
        "#####**Correlation Between Relative_Slope and Stock Volume**"
      ]
    },
    {
      "cell_type": "code",
      "metadata": {
        "id": "rVBeoLXYV3lw",
        "colab_type": "code",
        "colab": {
          "base_uri": "https://localhost:8080/",
          "height": 329
        },
        "outputId": "2324c1fe-3d56-46e5-accc-eb829aea866c"
      },
      "source": [
        "x = aapl['Volume']\n",
        "y = aapl['relative_slope']\n",
        "m, b = np.polyfit(x, y, 1)\n",
        "\n",
        "plt.scatter(x, y)\n",
        "plt.title(\"Relative_Slope vs Volume\")\n",
        "plt.xlabel(\"Volume\")\n",
        "plt.ylabel(\"Relative Slope\")\n",
        "\n",
        "plt.plot(x, m*x + b, color='red')\n",
        "print(\"y =\" + str(m) + \"*x\" + \"+\" + str(b))\n",
        "\n",
        "plt.show"
      ],
      "execution_count": 30,
      "outputs": [
        {
          "output_type": "stream",
          "text": [
            "y =7.306724025967188e-11*x+-0.006357289253411597\n"
          ],
          "name": "stdout"
        },
        {
          "output_type": "execute_result",
          "data": {
            "text/plain": [
              "<function matplotlib.pyplot.show>"
            ]
          },
          "metadata": {
            "tags": []
          },
          "execution_count": 30
        },
        {
          "output_type": "display_data",
          "data": {
            "image/png": "[encoded data removed]",
            "text/plain": [
              "<Figure size 432x288 with 1 Axes>"
            ]
          },
          "metadata": {
            "tags": [],
            "needs_background": "light"
          }
        }
      ]
    },
    {
      "cell_type": "markdown",
      "metadata": {
        "id": "56mFTSENVC1q",
        "colab_type": "text"
      },
      "source": [
        "#####**Correlation Between Close/Open_Relative and Stock Volume**"
      ]
    },
    {
      "cell_type": "code",
      "metadata": {
        "id": "Lo_cGo3IOPoZ",
        "colab_type": "code",
        "colab": {
          "base_uri": "https://localhost:8080/",
          "height": 329
        },
        "outputId": "8c0999df-78d8-42bd-ed04-75760c436528"
      },
      "source": [
        "x = aapl['Volume']\n",
        "y = aapl['close/open_relative']\n",
        "m, b = np.polyfit(x, y, 1)\n",
        "\n",
        "plt.scatter(x, y)\n",
        "plt.title(\"Close/Open Relative vs Volume\")\n",
        "plt.xlabel(\"Volume\")\n",
        "plt.ylabel(\"Relative Close/Open\")\n",
        "\n",
        "plt.plot(x, m*x + b, color='red')\n",
        "print(\"y =\" + str(m) + \"*x\" + \"+\" + str(b))\n",
        "\n",
        "plt.show"
      ],
      "execution_count": 29,
      "outputs": [
        {
          "output_type": "stream",
          "text": [
            "y =3.3841306959309528e-15*x+0.0014343593403471522\n"
          ],
          "name": "stdout"
        },
        {
          "output_type": "execute_result",
          "data": {
            "text/plain": [
              "<function matplotlib.pyplot.show>"
            ]
          },
          "metadata": {
            "tags": []
          },
          "execution_count": 29
        },
        {
          "output_type": "display_data",
          "data": {
            "image/png": "[encoded data removed]",
            "text/plain": [
              "<Figure size 432x288 with 1 Axes>"
            ]
          },
          "metadata": {
            "tags": [],
            "needs_background": "light"
          }
        }
      ]
    },
    {
      "cell_type": "markdown",
      "metadata": {
        "id": "-Ev4gkqHjRxT",
        "colab_type": "text"
      },
      "source": [
        "# **Heritability in Stock Prices**\n",
        "\n"
      ]
    },
    {
      "cell_type": "markdown",
      "metadata": {
        "id": "HmrmMCqAjmAb",
        "colab_type": "text"
      },
      "source": [
        "## **Experiment 1: Overall Heritability**\n",
        "\n"
      ]
    },
    {
      "cell_type": "code",
      "metadata": {
        "id": "vAGbfvTkfVhv",
        "colab_type": "code",
        "colab": {
          "base_uri": "https://localhost:8080/",
          "height": 329
        },
        "outputId": "a324752a-6e96-407b-c654-1b55e45dad1b"
      },
      "source": [
        "x = np.array(aapl['Open'])\n",
        "y = np.array(aapl['Close'])\n",
        "plt.plot(x,y,'o')\n",
        "m,b = np.polyfit(x, y, 1)\n",
        "plt.plot(x, m*x + b)\n",
        "\n",
        "plt.title(\"Heritability Experiment #1\")\n",
        "plt.xlabel(\"parent (open price)\")\n",
        "plt.ylabel(\"offspring (close price)\")\n",
        "\n",
        "plt.show\n",
        "print(\"y =\" + str(m) + \"*x\" + \"+\" + str(b))\n",
        "print(\"heritability(h^2) = 1\")"
      ],
      "execution_count": null,
      "outputs": [
        {
          "output_type": "stream",
          "text": [
            "y =0.9999300868971756*x+-0.0017741565180051148\n",
            "heritability(h^2) = 1\n"
          ],
          "name": "stdout"
        },
        {
          "output_type": "display_data",
          "data": {
            "image/png": "[encoded data removed]",
            "text/plain": [
              "<Figure size 432x288 with 1 Axes>"
            ]
          },
          "metadata": {
            "tags": [],
            "needs_background": "light"
          }
        }
      ]
    },
    {
      "cell_type": "markdown",
      "metadata": {
        "id": "XZlrh70nkKlB",
        "colab_type": "text"
      },
      "source": [
        "## **Experiment 2: Heritability By Year**"
      ]
    },
    {
      "cell_type": "code",
      "metadata": {
        "id": "WIcJtw1NlTWv",
        "colab_type": "code",
        "colab": {
          "base_uri": "https://localhost:8080/",
          "height": 204
        },
        "outputId": "2efda01b-6626-4c31-cec0-a4442bd67095"
      },
      "source": [
        "aapl_1984 = aapl[:80]\n",
        "aapl_1985 = aapl[80:333]\n",
        "aapl_2000 = aapl[3871:4123]\n",
        "aapl_2016 = aapl[7894:8146]\n",
        "aapl_2000.tail()"
      ],
      "execution_count": null,
      "outputs": [
        {
          "output_type": "execute_result",
          "data": {
            "text/html": [
              "<div>\n",
              "<style scoped>\n",
              "    .dataframe tbody tr th:only-of-type {\n",
              "        vertical-align: middle;\n",
              "    }\n",
              "\n",
              "    .dataframe tbody tr th {\n",
              "        vertical-align: top;\n",
              "    }\n",
              "\n",
              "    .dataframe thead th {\n",
              "        text-align: right;\n",
              "    }\n",
              "</style>\n",
              "<table border=\"1\" class=\"dataframe\">\n",
              "  <thead>\n",
              "    <tr style=\"text-align: right;\">\n",
              "      <th></th>\n",
              "      <th>Date</th>\n",
              "      <th>Open</th>\n",
              "      <th>High</th>\n",
              "      <th>Low</th>\n",
              "      <th>Close</th>\n",
              "      <th>Volume</th>\n",
              "      <th>OpenInt</th>\n",
              "      <th>individual_fitness</th>\n",
              "      <th>population_fitness</th>\n",
              "      <th>relative_fitness</th>\n",
              "    </tr>\n",
              "  </thead>\n",
              "  <tbody>\n",
              "    <tr>\n",
              "      <th>4118</th>\n",
              "      <td>2000-12-22</td>\n",
              "      <td>0.9039</td>\n",
              "      <td>0.9604</td>\n",
              "      <td>0.9039</td>\n",
              "      <td>0.9604</td>\n",
              "      <td>88699310</td>\n",
              "      <td>0</td>\n",
              "      <td>0.0565</td>\n",
              "      <td>-0.003332</td>\n",
              "      <td>-16.956149</td>\n",
              "    </tr>\n",
              "    <tr>\n",
              "      <th>4119</th>\n",
              "      <td>2000-12-26</td>\n",
              "      <td>0.9526</td>\n",
              "      <td>0.9604</td>\n",
              "      <td>0.9117</td>\n",
              "      <td>0.9399</td>\n",
              "      <td>60466088</td>\n",
              "      <td>0</td>\n",
              "      <td>-0.0127</td>\n",
              "      <td>-0.003332</td>\n",
              "      <td>3.811382</td>\n",
              "    </tr>\n",
              "    <tr>\n",
              "      <th>4120</th>\n",
              "      <td>2000-12-27</td>\n",
              "      <td>0.9184</td>\n",
              "      <td>0.9490</td>\n",
              "      <td>0.9078</td>\n",
              "      <td>0.9490</td>\n",
              "      <td>90767052</td>\n",
              "      <td>0</td>\n",
              "      <td>0.0306</td>\n",
              "      <td>-0.003332</td>\n",
              "      <td>-9.183330</td>\n",
              "    </tr>\n",
              "    <tr>\n",
              "      <th>4121</th>\n",
              "      <td>2000-12-28</td>\n",
              "      <td>0.9209</td>\n",
              "      <td>0.9565</td>\n",
              "      <td>0.9171</td>\n",
              "      <td>0.9490</td>\n",
              "      <td>85108857</td>\n",
              "      <td>0</td>\n",
              "      <td>0.0281</td>\n",
              "      <td>-0.003332</td>\n",
              "      <td>-8.433058</td>\n",
              "    </tr>\n",
              "    <tr>\n",
              "      <th>4122</th>\n",
              "      <td>2000-12-29</td>\n",
              "      <td>0.9399</td>\n",
              "      <td>0.9604</td>\n",
              "      <td>0.9284</td>\n",
              "      <td>0.9526</td>\n",
              "      <td>175790027</td>\n",
              "      <td>0</td>\n",
              "      <td>0.0127</td>\n",
              "      <td>-0.003332</td>\n",
              "      <td>-3.811382</td>\n",
              "    </tr>\n",
              "  </tbody>\n",
              "</table>\n",
              "</div>"
            ],
            "text/plain": [
              "            Date    Open  ...  population_fitness  relative_fitness\n",
              "4118  2000-12-22  0.9039  ...           -0.003332        -16.956149\n",
              "4119  2000-12-26  0.9526  ...           -0.003332          3.811382\n",
              "4120  2000-12-27  0.9184  ...           -0.003332         -9.183330\n",
              "4121  2000-12-28  0.9209  ...           -0.003332         -8.433058\n",
              "4122  2000-12-29  0.9399  ...           -0.003332         -3.811382\n",
              "\n",
              "[5 rows x 10 columns]"
            ]
          },
          "metadata": {
            "tags": []
          },
          "execution_count": 11
        }
      ]
    },
    {
      "cell_type": "code",
      "metadata": {
        "id": "84BHhxQQkbIy",
        "colab_type": "code",
        "colab": {
          "base_uri": "https://localhost:8080/",
          "height": 380
        },
        "outputId": "9fd838fb-9f04-4f30-bf92-f9b13d9bf80e"
      },
      "source": [
        "x_1984 = np.array(aapl_1984['Open'])\n",
        "y_1984 = np.array(aapl_1984['Close'])\n",
        "plt.plot(x_1984,y_1984,'o')\n",
        "m_1984,b_1984 = np.polyfit(x_1984, y_1984, 1)\n",
        "plt.plot(x_1984, m_1984*x_1984 + b_1984)\n",
        "\"\"\"\n",
        "x_1985 = np.array(aapl_1985['Open'])\n",
        "y_1985 = np.array(aapl_1985['Close'])\n",
        "plt.plot(x_1985,y_1985,'x')\n",
        "m_1985,b_1985 = np.polyfit(x_1985, y_1985, 1)\n",
        "plt.plot(x_1985, m_1985*x_1985 + b_1985, color='brown')\n",
        "\"\"\"\n",
        "x_2000 = np.array(aapl_2000['Open'])\n",
        "y_2000 = np.array(aapl_2000['Close'])\n",
        "plt.plot(x_2000,y_2000,'x')\n",
        "m_2000,b_2000 = np.polyfit(x_2000, y_2000, 1)\n",
        "plt.plot(x_2000, m_2000*x_2000 + b_2000, color='black')\n",
        "\n",
        "plt.title(\"Heritability Experiment #2\")\n",
        "plt.xlabel(\"parent (open price)\")\n",
        "plt.ylabel(\"offspring (close price)\")\n",
        "\n",
        "plt.show\n",
        "print(\"y = \" + str(m_1984) + \"*x\" + \" + \" + str(b_1984))\n",
        "#print(\"y = \" + str(m_1985) + \"*x\" + \" + \" + str(b_1985))\n",
        "print(\"y = \" + str(m_2000) + \"*x\" + \" + \" + str(b_2000))\n",
        "print(\"Heritability (h^2):\")\n",
        "print(\"1984: \" + str(m_1984)[:4])\n",
        "#print(\"1985: \" + str(m_1985)[:4])\n",
        "print(\"2000: \" + str(m_2000)[:4])"
      ],
      "execution_count": null,
      "outputs": [
        {
          "output_type": "stream",
          "text": [
            "y = 1.013116809214537*x + -0.008972671148518645\n",
            "y = 1.0028822555941734*x + -0.013527106847332538\n",
            "Heritability (h^2):\n",
            "1984: 1.01\n",
            "2000: 1.00\n"
          ],
          "name": "stdout"
        },
        {
          "output_type": "display_data",
          "data": {
            "image/png": "[encoded data removed]",
            "text/plain": [
              "<Figure size 432x288 with 1 Axes>"
            ]
          },
          "metadata": {
            "tags": [],
            "needs_background": "light"
          }
        }
      ]
    },
    {
      "cell_type": "markdown",
      "metadata": {
        "id": "WmimQ51wzPmy",
        "colab_type": "text"
      },
      "source": [
        "Heritability is a good indicator on whether a stock is doing good (increasing in price over time) or not. \n",
        "In this case, AAPL has generally had h^2 = 1 roughly.\n",
        "If a stock is going downhill and will probably go down in price in the future, the heritability value would decrease."
      ]
    },
    {
      "cell_type": "markdown",
      "metadata": {
        "id": "KacaS-jSz_f9",
        "colab_type": "text"
      },
      "source": [
        "## **Experiment 3: Overall Heritability of a Bad Stock**\n"
      ]
    },
    {
      "cell_type": "code",
      "metadata": {
        "id": "bh_A0iJez-m2",
        "colab_type": "code",
        "colab": {
          "base_uri": "https://localhost:8080/",
          "height": 221
        },
        "outputId": "86033221-815f-4723-fa45-3da7cd1dd2ee"
      },
      "source": [
        "print(fslr.shape)\n",
        "fslr.head()"
      ],
      "execution_count": 31,
      "outputs": [
        {
          "output_type": "stream",
          "text": [
            "(2765, 7)\n"
          ],
          "name": "stdout"
        },
        {
          "output_type": "execute_result",
          "data": {
            "text/html": [
              "<div>\n",
              "<style scoped>\n",
              "    .dataframe tbody tr th:only-of-type {\n",
              "        vertical-align: middle;\n",
              "    }\n",
              "\n",
              "    .dataframe tbody tr th {\n",
              "        vertical-align: top;\n",
              "    }\n",
              "\n",
              "    .dataframe thead th {\n",
              "        text-align: right;\n",
              "    }\n",
              "</style>\n",
              "<table border=\"1\" class=\"dataframe\">\n",
              "  <thead>\n",
              "    <tr style=\"text-align: right;\">\n",
              "      <th></th>\n",
              "      <th>Date</th>\n",
              "      <th>Open</th>\n",
              "      <th>High</th>\n",
              "      <th>Low</th>\n",
              "      <th>Close</th>\n",
              "      <th>Volume</th>\n",
              "      <th>OpenInt</th>\n",
              "    </tr>\n",
              "  </thead>\n",
              "  <tbody>\n",
              "    <tr>\n",
              "      <th>0</th>\n",
              "      <td>2006-11-16</td>\n",
              "      <td>20.00</td>\n",
              "      <td>20.00</td>\n",
              "      <td>20.00</td>\n",
              "      <td>20.00</td>\n",
              "      <td>0</td>\n",
              "      <td>0</td>\n",
              "    </tr>\n",
              "    <tr>\n",
              "      <th>1</th>\n",
              "      <td>2006-11-17</td>\n",
              "      <td>24.50</td>\n",
              "      <td>25.18</td>\n",
              "      <td>23.50</td>\n",
              "      <td>24.74</td>\n",
              "      <td>18359706</td>\n",
              "      <td>0</td>\n",
              "    </tr>\n",
              "    <tr>\n",
              "      <th>2</th>\n",
              "      <td>2006-11-20</td>\n",
              "      <td>24.69</td>\n",
              "      <td>25.67</td>\n",
              "      <td>24.29</td>\n",
              "      <td>25.00</td>\n",
              "      <td>1688963</td>\n",
              "      <td>0</td>\n",
              "    </tr>\n",
              "    <tr>\n",
              "      <th>3</th>\n",
              "      <td>2006-11-21</td>\n",
              "      <td>25.00</td>\n",
              "      <td>25.19</td>\n",
              "      <td>24.31</td>\n",
              "      <td>24.60</td>\n",
              "      <td>1179813</td>\n",
              "      <td>0</td>\n",
              "    </tr>\n",
              "    <tr>\n",
              "      <th>4</th>\n",
              "      <td>2006-11-22</td>\n",
              "      <td>24.57</td>\n",
              "      <td>26.88</td>\n",
              "      <td>24.50</td>\n",
              "      <td>26.88</td>\n",
              "      <td>1260752</td>\n",
              "      <td>0</td>\n",
              "    </tr>\n",
              "  </tbody>\n",
              "</table>\n",
              "</div>"
            ],
            "text/plain": [
              "         Date   Open   High    Low  Close    Volume  OpenInt\n",
              "0  2006-11-16  20.00  20.00  20.00  20.00         0        0\n",
              "1  2006-11-17  24.50  25.18  23.50  24.74  18359706        0\n",
              "2  2006-11-20  24.69  25.67  24.29  25.00   1688963        0\n",
              "3  2006-11-21  25.00  25.19  24.31  24.60   1179813        0\n",
              "4  2006-11-22  24.57  26.88  24.50  26.88   1260752        0"
            ]
          },
          "metadata": {
            "tags": []
          },
          "execution_count": 31
        }
      ]
    },
    {
      "cell_type": "code",
      "metadata": {
        "id": "EWnZ7cMNz-rm",
        "colab_type": "code",
        "colab": {
          "base_uri": "https://localhost:8080/",
          "height": 329
        },
        "outputId": "2c363d85-5bab-45d4-bc09-de59ee000ab6"
      },
      "source": [
        "x = np.array(fslr['Open'])\n",
        "y = np.array(fslr['Close'])\n",
        "plt.plot(x,y,'o')\n",
        "m,b = np.polyfit(x, y, 1)\n",
        "plt.plot(x, m*x + b)\n",
        "\n",
        "plt.title(\"Heritability Experiment #3\")\n",
        "plt.xlabel(\"parent (open price)\")\n",
        "plt.ylabel(\"offspring (close price)\")\n",
        "\n",
        "plt.show\n",
        "print(\"y =\" + str(m) + \"*x\" + \"+\" + str(b))\n",
        "print(\"heritability(h^2) = 1\")"
      ],
      "execution_count": null,
      "outputs": [
        {
          "output_type": "stream",
          "text": [
            "y =0.9953966523113154*x+0.30143386876527234\n",
            "heritability(h^2) = 1\n"
          ],
          "name": "stdout"
        },
        {
          "output_type": "display_data",
          "data": {
            "image/png": "[encoded data removed]",
            "text/plain": [
              "<Figure size 432x288 with 1 Axes>"
            ]
          },
          "metadata": {
            "tags": [],
            "needs_background": "light"
          }
        }
      ]
    },
    {
      "cell_type": "code",
      "metadata": {
        "id": "9H-bNcnNz-0i",
        "colab_type": "code",
        "colab": {
          "base_uri": "https://localhost:8080/",
          "height": 436
        },
        "outputId": "a5e38c9b-e87c-40d0-ed7f-20820bfa0f54"
      },
      "source": [
        "ino = pd.read_csv('ino.us.txt')\n",
        "print(ino.shape)\n",
        "ino"
      ],
      "execution_count": null,
      "outputs": [
        {
          "output_type": "stream",
          "text": [
            "(3201, 7)\n"
          ],
          "name": "stdout"
        },
        {
          "output_type": "execute_result",
          "data": {
            "text/html": [
              "<div>\n",
              "<style scoped>\n",
              "    .dataframe tbody tr th:only-of-type {\n",
              "        vertical-align: middle;\n",
              "    }\n",
              "\n",
              "    .dataframe tbody tr th {\n",
              "        vertical-align: top;\n",
              "    }\n",
              "\n",
              "    .dataframe thead th {\n",
              "        text-align: right;\n",
              "    }\n",
              "</style>\n",
              "<table border=\"1\" class=\"dataframe\">\n",
              "  <thead>\n",
              "    <tr style=\"text-align: right;\">\n",
              "      <th></th>\n",
              "      <th>Date</th>\n",
              "      <th>Open</th>\n",
              "      <th>High</th>\n",
              "      <th>Low</th>\n",
              "      <th>Close</th>\n",
              "      <th>Volume</th>\n",
              "      <th>OpenInt</th>\n",
              "    </tr>\n",
              "  </thead>\n",
              "  <tbody>\n",
              "    <tr>\n",
              "      <th>0</th>\n",
              "      <td>2005-02-25</td>\n",
              "      <td>17.80</td>\n",
              "      <td>17.8400</td>\n",
              "      <td>17.12</td>\n",
              "      <td>17.320</td>\n",
              "      <td>20675</td>\n",
              "      <td>0</td>\n",
              "    </tr>\n",
              "    <tr>\n",
              "      <th>1</th>\n",
              "      <td>2005-02-28</td>\n",
              "      <td>17.40</td>\n",
              "      <td>17.4000</td>\n",
              "      <td>16.88</td>\n",
              "      <td>17.000</td>\n",
              "      <td>8825</td>\n",
              "      <td>0</td>\n",
              "    </tr>\n",
              "    <tr>\n",
              "      <th>2</th>\n",
              "      <td>2005-03-01</td>\n",
              "      <td>17.40</td>\n",
              "      <td>17.7600</td>\n",
              "      <td>17.12</td>\n",
              "      <td>17.640</td>\n",
              "      <td>8600</td>\n",
              "      <td>0</td>\n",
              "    </tr>\n",
              "    <tr>\n",
              "      <th>3</th>\n",
              "      <td>2005-03-02</td>\n",
              "      <td>17.60</td>\n",
              "      <td>17.8000</td>\n",
              "      <td>17.48</td>\n",
              "      <td>17.800</td>\n",
              "      <td>9975</td>\n",
              "      <td>0</td>\n",
              "    </tr>\n",
              "    <tr>\n",
              "      <th>4</th>\n",
              "      <td>2005-03-03</td>\n",
              "      <td>17.96</td>\n",
              "      <td>18.8000</td>\n",
              "      <td>17.84</td>\n",
              "      <td>18.720</td>\n",
              "      <td>60775</td>\n",
              "      <td>0</td>\n",
              "    </tr>\n",
              "    <tr>\n",
              "      <th>...</th>\n",
              "      <td>...</td>\n",
              "      <td>...</td>\n",
              "      <td>...</td>\n",
              "      <td>...</td>\n",
              "      <td>...</td>\n",
              "      <td>...</td>\n",
              "      <td>...</td>\n",
              "    </tr>\n",
              "    <tr>\n",
              "      <th>3196</th>\n",
              "      <td>2017-11-06</td>\n",
              "      <td>5.76</td>\n",
              "      <td>5.8000</td>\n",
              "      <td>5.66</td>\n",
              "      <td>5.660</td>\n",
              "      <td>637762</td>\n",
              "      <td>0</td>\n",
              "    </tr>\n",
              "    <tr>\n",
              "      <th>3197</th>\n",
              "      <td>2017-11-07</td>\n",
              "      <td>5.64</td>\n",
              "      <td>5.6600</td>\n",
              "      <td>5.30</td>\n",
              "      <td>5.315</td>\n",
              "      <td>1405926</td>\n",
              "      <td>0</td>\n",
              "    </tr>\n",
              "    <tr>\n",
              "      <th>3198</th>\n",
              "      <td>2017-11-08</td>\n",
              "      <td>5.37</td>\n",
              "      <td>5.4063</td>\n",
              "      <td>5.22</td>\n",
              "      <td>5.330</td>\n",
              "      <td>988130</td>\n",
              "      <td>0</td>\n",
              "    </tr>\n",
              "    <tr>\n",
              "      <th>3199</th>\n",
              "      <td>2017-11-09</td>\n",
              "      <td>5.00</td>\n",
              "      <td>5.1000</td>\n",
              "      <td>4.40</td>\n",
              "      <td>4.430</td>\n",
              "      <td>3799512</td>\n",
              "      <td>0</td>\n",
              "    </tr>\n",
              "    <tr>\n",
              "      <th>3200</th>\n",
              "      <td>2017-11-10</td>\n",
              "      <td>4.53</td>\n",
              "      <td>4.7700</td>\n",
              "      <td>4.45</td>\n",
              "      <td>4.740</td>\n",
              "      <td>1969340</td>\n",
              "      <td>0</td>\n",
              "    </tr>\n",
              "  </tbody>\n",
              "</table>\n",
              "<p>3201 rows × 7 columns</p>\n",
              "</div>"
            ],
            "text/plain": [
              "            Date   Open     High    Low   Close   Volume  OpenInt\n",
              "0     2005-02-25  17.80  17.8400  17.12  17.320    20675        0\n",
              "1     2005-02-28  17.40  17.4000  16.88  17.000     8825        0\n",
              "2     2005-03-01  17.40  17.7600  17.12  17.640     8600        0\n",
              "3     2005-03-02  17.60  17.8000  17.48  17.800     9975        0\n",
              "4     2005-03-03  17.96  18.8000  17.84  18.720    60775        0\n",
              "...          ...    ...      ...    ...     ...      ...      ...\n",
              "3196  2017-11-06   5.76   5.8000   5.66   5.660   637762        0\n",
              "3197  2017-11-07   5.64   5.6600   5.30   5.315  1405926        0\n",
              "3198  2017-11-08   5.37   5.4063   5.22   5.330   988130        0\n",
              "3199  2017-11-09   5.00   5.1000   4.40   4.430  3799512        0\n",
              "3200  2017-11-10   4.53   4.7700   4.45   4.740  1969340        0\n",
              "\n",
              "[3201 rows x 7 columns]"
            ]
          },
          "metadata": {
            "tags": []
          },
          "execution_count": 17
        }
      ]
    },
    {
      "cell_type": "code",
      "metadata": {
        "id": "JWMxNkC9z-6_",
        "colab_type": "code",
        "colab": {
          "base_uri": "https://localhost:8080/",
          "height": 329
        },
        "outputId": "fb96e6fd-ecc7-46f4-a184-5c84aebd8f0c"
      },
      "source": [
        "x = np.array(ino['Open'])\n",
        "y = np.array(ino['Close'])\n",
        "plt.plot(x,y,'o')\n",
        "m,b = np.polyfit(x, y, 1)\n",
        "plt.plot(x, m*x + b)\n",
        "\n",
        "plt.title(\"Heritability Experiment #3\")\n",
        "plt.xlabel(\"parent (open price)\")\n",
        "plt.ylabel(\"offspring (close price)\")\n",
        "\n",
        "plt.show\n",
        "print(\"y =\" + str(m) + \"*x\" + \"+\" + str(b))\n",
        "print(\"heritability(h^2) = 1\")"
      ],
      "execution_count": null,
      "outputs": [
        {
          "output_type": "stream",
          "text": [
            "y =0.9932195261404955*x+0.008829188169369784\n",
            "heritability(h^2) = 1\n"
          ],
          "name": "stdout"
        },
        {
          "output_type": "display_data",
          "data": {
            "image/png": "[encoded data removed]",
            "text/plain": [
              "<Figure size 432x288 with 1 Axes>"
            ]
          },
          "metadata": {
            "tags": [],
            "needs_background": "light"
          }
        }
      ]
    },
    {
      "cell_type": "markdown",
      "metadata": {
        "id": "5mSjAOKY37dR",
        "colab_type": "text"
      },
      "source": [
        "Note to self: Heritability is bad characteristic for predicting stock prices. Tomorrow, try to somehow figure out how to implement 'S' directional selection. Research more about Volume trading first."
      ]
    },
    {
      "cell_type": "code",
      "metadata": {
        "id": "gAUvVP7KXjvr",
        "colab_type": "code",
        "colab": {
          "base_uri": "https://localhost:8080/",
          "height": 221
        },
        "outputId": "39152fda-6baa-432b-e207-0fd7e295787c"
      },
      "source": [
        "print(ba.shape)\n",
        "ba.head()"
      ],
      "execution_count": 34,
      "outputs": [
        {
          "output_type": "stream",
          "text": [
            "(12074, 7)\n"
          ],
          "name": "stdout"
        },
        {
          "output_type": "execute_result",
          "data": {
            "text/html": [
              "<div>\n",
              "<style scoped>\n",
              "    .dataframe tbody tr th:only-of-type {\n",
              "        vertical-align: middle;\n",
              "    }\n",
              "\n",
              "    .dataframe tbody tr th {\n",
              "        vertical-align: top;\n",
              "    }\n",
              "\n",
              "    .dataframe thead th {\n",
              "        text-align: right;\n",
              "    }\n",
              "</style>\n",
              "<table border=\"1\" class=\"dataframe\">\n",
              "  <thead>\n",
              "    <tr style=\"text-align: right;\">\n",
              "      <th></th>\n",
              "      <th>Date</th>\n",
              "      <th>Open</th>\n",
              "      <th>High</th>\n",
              "      <th>Low</th>\n",
              "      <th>Close</th>\n",
              "      <th>Volume</th>\n",
              "      <th>OpenInt</th>\n",
              "    </tr>\n",
              "  </thead>\n",
              "  <tbody>\n",
              "    <tr>\n",
              "      <th>0</th>\n",
              "      <td>1970-01-02</td>\n",
              "      <td>0.7587</td>\n",
              "      <td>0.8092</td>\n",
              "      <td>0.7587</td>\n",
              "      <td>0.8092</td>\n",
              "      <td>753088</td>\n",
              "      <td>0</td>\n",
              "    </tr>\n",
              "    <tr>\n",
              "      <th>1</th>\n",
              "      <td>1970-01-05</td>\n",
              "      <td>0.8263</td>\n",
              "      <td>0.8429</td>\n",
              "      <td>0.8263</td>\n",
              "      <td>0.8345</td>\n",
              "      <td>879203</td>\n",
              "      <td>0</td>\n",
              "    </tr>\n",
              "    <tr>\n",
              "      <th>2</th>\n",
              "      <td>1970-01-06</td>\n",
              "      <td>0.8429</td>\n",
              "      <td>0.8598</td>\n",
              "      <td>0.8429</td>\n",
              "      <td>0.8429</td>\n",
              "      <td>1607067</td>\n",
              "      <td>0</td>\n",
              "    </tr>\n",
              "    <tr>\n",
              "      <th>3</th>\n",
              "      <td>1970-01-07</td>\n",
              "      <td>0.8429</td>\n",
              "      <td>0.8598</td>\n",
              "      <td>0.8429</td>\n",
              "      <td>0.8512</td>\n",
              "      <td>767501</td>\n",
              "      <td>0</td>\n",
              "    </tr>\n",
              "    <tr>\n",
              "      <th>4</th>\n",
              "      <td>1970-01-08</td>\n",
              "      <td>0.8512</td>\n",
              "      <td>0.8512</td>\n",
              "      <td>0.8263</td>\n",
              "      <td>0.8429</td>\n",
              "      <td>958476</td>\n",
              "      <td>0</td>\n",
              "    </tr>\n",
              "  </tbody>\n",
              "</table>\n",
              "</div>"
            ],
            "text/plain": [
              "         Date    Open    High     Low   Close   Volume  OpenInt\n",
              "0  1970-01-02  0.7587  0.8092  0.7587  0.8092   753088        0\n",
              "1  1970-01-05  0.8263  0.8429  0.8263  0.8345   879203        0\n",
              "2  1970-01-06  0.8429  0.8598  0.8429  0.8429  1607067        0\n",
              "3  1970-01-07  0.8429  0.8598  0.8429  0.8512   767501        0\n",
              "4  1970-01-08  0.8512  0.8512  0.8263  0.8429   958476        0"
            ]
          },
          "metadata": {
            "tags": []
          },
          "execution_count": 34
        }
      ]
    },
    {
      "cell_type": "code",
      "metadata": {
        "id": "_FoIwUa8X9Wq",
        "colab_type": "code",
        "colab": {
          "base_uri": "https://localhost:8080/",
          "height": 329
        },
        "outputId": "7b0f7d5c-35ee-4ef5-83ed-fe57759c9091"
      },
      "source": [
        "x = ba['Open']\n",
        "y = ba['Close']\n",
        "plt.scatter(x,y)\n",
        "m,b = np.polyfit(x, y, 1)\n",
        "plt.plot(x, m*x + b)\n",
        "\n",
        "plt.title(\"Heritability Experiment #3\")\n",
        "plt.xlabel(\"parent (open price)\")\n",
        "plt.ylabel(\"offspring (close price)\")\n",
        "\n",
        "plt.show\n",
        "print(\"y =\" + str(m) + \"*x\" + \"+\" + str(b))\n",
        "print(\"heritability(h^2) = 1\")"
      ],
      "execution_count": 35,
      "outputs": [
        {
          "output_type": "stream",
          "text": [
            "y =1.0004900431519421*x+-0.006258493500233103\n",
            "heritability(h^2) = 1\n"
          ],
          "name": "stdout"
        },
        {
          "output_type": "display_data",
          "data": {
            "image/png": "[encoded data removed]",
            "text/plain": [
              "<Figure size 432x288 with 1 Axes>"
            ]
          },
          "metadata": {
            "tags": [],
            "needs_background": "light"
          }
        }
      ]
    },
    {
      "cell_type": "markdown",
      "metadata": {
        "id": "JLec20hd5kgO",
        "colab_type": "text"
      },
      "source": [
        "# **Miscellaneous**\n"
      ]
    },
    {
      "cell_type": "code",
      "metadata": {
        "id": "SIZ7lIsu4PqL",
        "colab_type": "code",
        "colab": {
          "base_uri": "https://localhost:8080/",
          "height": 312
        },
        "outputId": "30e5619b-226c-41de-97a2-094d1e01a754"
      },
      "source": [
        "#Correlation between stock price and Volume\n",
        "x = np.array(aapl['Open'])\n",
        "y = np.array(aapl['Volume'])\n",
        "plt.plot(x,y,'o')\n",
        "m,b = np.polyfit(x, y, 1)\n",
        "plt.plot(x, m*x + b)\n",
        "\n",
        "plt.title(\"Stock Price vs Volume\")\n",
        "plt.xlabel(\"Close Price\")\n",
        "plt.ylabel(\"Volume\")\n",
        "\n",
        "plt.show\n",
        "print(\"y =\" + str(m) + \"*x\" + \"+\" + str(b))"
      ],
      "execution_count": null,
      "outputs": [
        {
          "output_type": "stream",
          "text": [
            "y =-248831.1933160804*x+112186669.82661529\n"
          ],
          "name": "stdout"
        },
        {
          "output_type": "display_data",
          "data": {
            "image/png": "[encoded data removed]",
            "text/plain": [
              "<Figure size 432x288 with 1 Axes>"
            ]
          },
          "metadata": {
            "tags": [],
            "needs_background": "light"
          }
        }
      ]
    },
    {
      "cell_type": "code",
      "metadata": {
        "id": "o_4gDu0S5jo_",
        "colab_type": "code",
        "colab": {
          "base_uri": "https://localhost:8080/",
          "height": 204
        },
        "outputId": "72b57ab0-ea23-45c5-b11f-f6bb6dc2f70e"
      },
      "source": [
        "volume_sum = aapl['Volume'].sum(axis=0)\n",
        "volume_avg = volume_sum / 8364\n",
        "aapl['volume_avg'] = volume_avg\n",
        "aapl['relative_volume'] = aapl['Volume'] / aapl['volume_avg']\n",
        "aapl.head()"
      ],
      "execution_count": null,
      "outputs": [
        {
          "output_type": "execute_result",
          "data": {
            "text/html": [
              "<div>\n",
              "<style scoped>\n",
              "    .dataframe tbody tr th:only-of-type {\n",
              "        vertical-align: middle;\n",
              "    }\n",
              "\n",
              "    .dataframe tbody tr th {\n",
              "        vertical-align: top;\n",
              "    }\n",
              "\n",
              "    .dataframe thead th {\n",
              "        text-align: right;\n",
              "    }\n",
              "</style>\n",
              "<table border=\"1\" class=\"dataframe\">\n",
              "  <thead>\n",
              "    <tr style=\"text-align: right;\">\n",
              "      <th></th>\n",
              "      <th>Date</th>\n",
              "      <th>Open</th>\n",
              "      <th>High</th>\n",
              "      <th>Low</th>\n",
              "      <th>Close</th>\n",
              "      <th>Volume</th>\n",
              "      <th>OpenInt</th>\n",
              "      <th>individual_fitness</th>\n",
              "      <th>population_fitness</th>\n",
              "      <th>relative_fitness</th>\n",
              "      <th>volume_avg</th>\n",
              "      <th>relative_volume</th>\n",
              "    </tr>\n",
              "  </thead>\n",
              "  <tbody>\n",
              "    <tr>\n",
              "      <th>0</th>\n",
              "      <td>1984-09-07</td>\n",
              "      <td>0.42388</td>\n",
              "      <td>0.42902</td>\n",
              "      <td>0.41874</td>\n",
              "      <td>0.42388</td>\n",
              "      <td>23220030</td>\n",
              "      <td>0</td>\n",
              "      <td>0.00000</td>\n",
              "      <td>-0.003332</td>\n",
              "      <td>-0.000000</td>\n",
              "      <td>1.066416e+08</td>\n",
              "      <td>0.217739</td>\n",
              "    </tr>\n",
              "    <tr>\n",
              "      <th>1</th>\n",
              "      <td>1984-09-10</td>\n",
              "      <td>0.42388</td>\n",
              "      <td>0.42516</td>\n",
              "      <td>0.41366</td>\n",
              "      <td>0.42134</td>\n",
              "      <td>18022532</td>\n",
              "      <td>0</td>\n",
              "      <td>-0.00254</td>\n",
              "      <td>-0.003332</td>\n",
              "      <td>0.762276</td>\n",
              "      <td>1.066416e+08</td>\n",
              "      <td>0.169001</td>\n",
              "    </tr>\n",
              "    <tr>\n",
              "      <th>2</th>\n",
              "      <td>1984-09-11</td>\n",
              "      <td>0.42516</td>\n",
              "      <td>0.43668</td>\n",
              "      <td>0.42516</td>\n",
              "      <td>0.42902</td>\n",
              "      <td>42498199</td>\n",
              "      <td>0</td>\n",
              "      <td>0.00386</td>\n",
              "      <td>-0.003332</td>\n",
              "      <td>-1.158420</td>\n",
              "      <td>1.066416e+08</td>\n",
              "      <td>0.398514</td>\n",
              "    </tr>\n",
              "    <tr>\n",
              "      <th>3</th>\n",
              "      <td>1984-09-12</td>\n",
              "      <td>0.42902</td>\n",
              "      <td>0.43157</td>\n",
              "      <td>0.41618</td>\n",
              "      <td>0.41618</td>\n",
              "      <td>37125801</td>\n",
              "      <td>0</td>\n",
              "      <td>-0.01284</td>\n",
              "      <td>-0.003332</td>\n",
              "      <td>3.853397</td>\n",
              "      <td>1.066416e+08</td>\n",
              "      <td>0.348136</td>\n",
              "    </tr>\n",
              "    <tr>\n",
              "      <th>4</th>\n",
              "      <td>1984-09-13</td>\n",
              "      <td>0.43927</td>\n",
              "      <td>0.44052</td>\n",
              "      <td>0.43927</td>\n",
              "      <td>0.43927</td>\n",
              "      <td>57822062</td>\n",
              "      <td>0</td>\n",
              "      <td>0.00000</td>\n",
              "      <td>-0.003332</td>\n",
              "      <td>-0.000000</td>\n",
              "      <td>1.066416e+08</td>\n",
              "      <td>0.542209</td>\n",
              "    </tr>\n",
              "  </tbody>\n",
              "</table>\n",
              "</div>"
            ],
            "text/plain": [
              "         Date     Open  ...    volume_avg  relative_volume\n",
              "0  1984-09-07  0.42388  ...  1.066416e+08         0.217739\n",
              "1  1984-09-10  0.42388  ...  1.066416e+08         0.169001\n",
              "2  1984-09-11  0.42516  ...  1.066416e+08         0.398514\n",
              "3  1984-09-12  0.42902  ...  1.066416e+08         0.348136\n",
              "4  1984-09-13  0.43927  ...  1.066416e+08         0.542209\n",
              "\n",
              "[5 rows x 12 columns]"
            ]
          },
          "metadata": {
            "tags": []
          },
          "execution_count": 20
        }
      ]
    },
    {
      "cell_type": "code",
      "metadata": {
        "id": "NXu0HPzG69mG",
        "colab_type": "code",
        "colab": {
          "base_uri": "https://localhost:8080/",
          "height": 312
        },
        "outputId": "05f00632-5a9f-41a0-d29d-a811b4c812df"
      },
      "source": [
        "x = np.array(aapl['Close'])\n",
        "y = np.array(aapl['relative_volume'])\n",
        "plt.plot(x,y,'o')\n",
        "m,b = np.polyfit(x, y, 1)\n",
        "plt.plot(x, m*x + b)\n",
        "\n",
        "plt.title(\"Finding Relative Fitness\")\n",
        "plt.xlabel(\"Close Price\")\n",
        "plt.ylabel(\"relative_volume\")\n",
        "\n",
        "plt.show\n",
        "print(\"y =\" + str(m) + \"*x\" + \"+\" + str(b))"
      ],
      "execution_count": null,
      "outputs": [
        {
          "output_type": "stream",
          "text": [
            "y =-0.002344222049206207*x+1.0522316537382637\n"
          ],
          "name": "stdout"
        },
        {
          "output_type": "display_data",
          "data": {
            "image/png": "[encoded data removed]",
            "text/plain": [
              "<Figure size 432x288 with 1 Axes>"
            ]
          },
          "metadata": {
            "tags": [],
            "needs_background": "light"
          }
        }
      ]
    },
    {
      "cell_type": "code",
      "metadata": {
        "id": "rk4jkL8y691M",
        "colab_type": "code",
        "colab": {}
      },
      "source": [
        "#Method 1:\n",
        "#aapl['success_rate'] = aapl['individual_fitness'] >= 0\n",
        "#aapl['success_rate'] = aapl['success_rate'].apply(lambda x: 1 if x==True else 0)\n",
        "\n",
        "#Method 2:\n",
        "#aapl['success_rate'] = aapl['individual_fitness'] >= 0\n",
        "#success_map = {True: 1, False: 0}\n",
        "#aapl['success_rate'] = aapl['success_rate'].map(success_map)\n"
      ],
      "execution_count": null,
      "outputs": []
    },
    {
      "cell_type": "code",
      "metadata": {
        "id": "IhKEjPUo69yf",
        "colab_type": "code",
        "colab": {}
      },
      "source": [
        "aapl['success_rate'] = aapl['individual_fitness'] >= 0\n",
        "aapl['success_rate'] = aapl['success_rate'].apply(lambda x: 1 if x==True else 0)\n",
        "aapl = aapl.drop(['success_rate2'], axis=1)\n",
        "aapl.head()"
      ],
      "execution_count": null,
      "outputs": []
    },
    {
      "cell_type": "code",
      "metadata": {
        "id": "qbd5yCAY69q5",
        "colab_type": "code",
        "colab": {
          "base_uri": "https://localhost:8080/",
          "height": 309
        },
        "outputId": "9c6d6b1b-9739-4fde-abec-6c8d59c7b2e5"
      },
      "source": [
        "aapl.describe()\n",
        "aapl['population_success'] = aapl['success_rate'].mean()\n",
        "aapl['relative_success'] = aapl['success_rate'] / aapl['population_success']\n",
        "aapl.head()"
      ],
      "execution_count": null,
      "outputs": [
        {
          "output_type": "execute_result",
          "data": {
            "text/html": [
              "<div>\n",
              "<style scoped>\n",
              "    .dataframe tbody tr th:only-of-type {\n",
              "        vertical-align: middle;\n",
              "    }\n",
              "\n",
              "    .dataframe tbody tr th {\n",
              "        vertical-align: top;\n",
              "    }\n",
              "\n",
              "    .dataframe thead th {\n",
              "        text-align: right;\n",
              "    }\n",
              "</style>\n",
              "<table border=\"1\" class=\"dataframe\">\n",
              "  <thead>\n",
              "    <tr style=\"text-align: right;\">\n",
              "      <th></th>\n",
              "      <th>Date</th>\n",
              "      <th>Open</th>\n",
              "      <th>High</th>\n",
              "      <th>Low</th>\n",
              "      <th>Close</th>\n",
              "      <th>Volume</th>\n",
              "      <th>OpenInt</th>\n",
              "      <th>individual_fitness</th>\n",
              "      <th>population_fitness</th>\n",
              "      <th>relative_fitness</th>\n",
              "      <th>volume_avg</th>\n",
              "      <th>relative_volume</th>\n",
              "      <th>success_rate</th>\n",
              "      <th>population_success</th>\n",
              "      <th>relative_success</th>\n",
              "    </tr>\n",
              "  </thead>\n",
              "  <tbody>\n",
              "    <tr>\n",
              "      <th>0</th>\n",
              "      <td>1984-09-07</td>\n",
              "      <td>0.42388</td>\n",
              "      <td>0.42902</td>\n",
              "      <td>0.41874</td>\n",
              "      <td>0.42388</td>\n",
              "      <td>23220030</td>\n",
              "      <td>0</td>\n",
              "      <td>0.00000</td>\n",
              "      <td>-0.003332</td>\n",
              "      <td>-0.000000</td>\n",
              "      <td>1.066416e+08</td>\n",
              "      <td>0.217739</td>\n",
              "      <td>1</td>\n",
              "      <td>0.522477</td>\n",
              "      <td>1.913959</td>\n",
              "    </tr>\n",
              "    <tr>\n",
              "      <th>1</th>\n",
              "      <td>1984-09-10</td>\n",
              "      <td>0.42388</td>\n",
              "      <td>0.42516</td>\n",
              "      <td>0.41366</td>\n",
              "      <td>0.42134</td>\n",
              "      <td>18022532</td>\n",
              "      <td>0</td>\n",
              "      <td>-0.00254</td>\n",
              "      <td>-0.003332</td>\n",
              "      <td>0.762276</td>\n",
              "      <td>1.066416e+08</td>\n",
              "      <td>0.169001</td>\n",
              "      <td>0</td>\n",
              "      <td>0.522477</td>\n",
              "      <td>0.000000</td>\n",
              "    </tr>\n",
              "    <tr>\n",
              "      <th>2</th>\n",
              "      <td>1984-09-11</td>\n",
              "      <td>0.42516</td>\n",
              "      <td>0.43668</td>\n",
              "      <td>0.42516</td>\n",
              "      <td>0.42902</td>\n",
              "      <td>42498199</td>\n",
              "      <td>0</td>\n",
              "      <td>0.00386</td>\n",
              "      <td>-0.003332</td>\n",
              "      <td>-1.158420</td>\n",
              "      <td>1.066416e+08</td>\n",
              "      <td>0.398514</td>\n",
              "      <td>1</td>\n",
              "      <td>0.522477</td>\n",
              "      <td>1.913959</td>\n",
              "    </tr>\n",
              "    <tr>\n",
              "      <th>3</th>\n",
              "      <td>1984-09-12</td>\n",
              "      <td>0.42902</td>\n",
              "      <td>0.43157</td>\n",
              "      <td>0.41618</td>\n",
              "      <td>0.41618</td>\n",
              "      <td>37125801</td>\n",
              "      <td>0</td>\n",
              "      <td>-0.01284</td>\n",
              "      <td>-0.003332</td>\n",
              "      <td>3.853397</td>\n",
              "      <td>1.066416e+08</td>\n",
              "      <td>0.348136</td>\n",
              "      <td>0</td>\n",
              "      <td>0.522477</td>\n",
              "      <td>0.000000</td>\n",
              "    </tr>\n",
              "    <tr>\n",
              "      <th>4</th>\n",
              "      <td>1984-09-13</td>\n",
              "      <td>0.43927</td>\n",
              "      <td>0.44052</td>\n",
              "      <td>0.43927</td>\n",
              "      <td>0.43927</td>\n",
              "      <td>57822062</td>\n",
              "      <td>0</td>\n",
              "      <td>0.00000</td>\n",
              "      <td>-0.003332</td>\n",
              "      <td>-0.000000</td>\n",
              "      <td>1.066416e+08</td>\n",
              "      <td>0.542209</td>\n",
              "      <td>1</td>\n",
              "      <td>0.522477</td>\n",
              "      <td>1.913959</td>\n",
              "    </tr>\n",
              "  </tbody>\n",
              "</table>\n",
              "</div>"
            ],
            "text/plain": [
              "         Date     Open  ...  population_success  relative_success\n",
              "0  1984-09-07  0.42388  ...            0.522477          1.913959\n",
              "1  1984-09-10  0.42388  ...            0.522477          0.000000\n",
              "2  1984-09-11  0.42516  ...            0.522477          1.913959\n",
              "3  1984-09-12  0.42902  ...            0.522477          0.000000\n",
              "4  1984-09-13  0.43927  ...            0.522477          1.913959\n",
              "\n",
              "[5 rows x 15 columns]"
            ]
          },
          "metadata": {
            "tags": []
          },
          "execution_count": 47
        }
      ]
    },
    {
      "cell_type": "code",
      "metadata": {
        "id": "X-8-bQZG69jB",
        "colab_type": "code",
        "colab": {
          "base_uri": "https://localhost:8080/",
          "height": 285
        },
        "outputId": "5333a367-ab9a-4326-d202-54b8167bcaab"
      },
      "source": [
        "x = aapl['Close']\n",
        "y = aapl['relative_success']\n",
        "\n",
        "plt.scatter(x,y)\n",
        "plt.show"
      ],
      "execution_count": null,
      "outputs": [
        {
          "output_type": "execute_result",
          "data": {
            "text/plain": [
              "<function matplotlib.pyplot.show>"
            ]
          },
          "metadata": {
            "tags": []
          },
          "execution_count": 49
        },
        {
          "output_type": "display_data",
          "data": {
            "image/png": "[encoded data removed]",
            "text/plain": [
              "<Figure size 432x288 with 1 Axes>"
            ]
          },
          "metadata": {
            "tags": [],
            "needs_background": "light"
          }
        }
      ]
    },
    {
      "cell_type": "code",
      "metadata": {
        "id": "UKy7zWDam1D5",
        "colab_type": "code",
        "colab": {
          "base_uri": "https://localhost:8080/",
          "height": 309
        },
        "outputId": "543fe80f-ae40-47f0-e1cd-3a3d3097f251"
      },
      "source": [
        "aapl.head()\n",
        "aapl['Close/Open'] = "
      ],
      "execution_count": null,
      "outputs": [
        {
          "output_type": "execute_result",
          "data": {
            "text/html": [
              "<div>\n",
              "<style scoped>\n",
              "    .dataframe tbody tr th:only-of-type {\n",
              "        vertical-align: middle;\n",
              "    }\n",
              "\n",
              "    .dataframe tbody tr th {\n",
              "        vertical-align: top;\n",
              "    }\n",
              "\n",
              "    .dataframe thead th {\n",
              "        text-align: right;\n",
              "    }\n",
              "</style>\n",
              "<table border=\"1\" class=\"dataframe\">\n",
              "  <thead>\n",
              "    <tr style=\"text-align: right;\">\n",
              "      <th></th>\n",
              "      <th>Date</th>\n",
              "      <th>Open</th>\n",
              "      <th>High</th>\n",
              "      <th>Low</th>\n",
              "      <th>Close</th>\n",
              "      <th>Volume</th>\n",
              "      <th>OpenInt</th>\n",
              "      <th>individual_fitness</th>\n",
              "      <th>population_fitness</th>\n",
              "      <th>relative_fitness</th>\n",
              "      <th>volume_avg</th>\n",
              "      <th>relative_volume</th>\n",
              "      <th>success_rate</th>\n",
              "      <th>population_success</th>\n",
              "      <th>relative_success</th>\n",
              "    </tr>\n",
              "  </thead>\n",
              "  <tbody>\n",
              "    <tr>\n",
              "      <th>0</th>\n",
              "      <td>1984-09-07</td>\n",
              "      <td>0.42388</td>\n",
              "      <td>0.42902</td>\n",
              "      <td>0.41874</td>\n",
              "      <td>0.42388</td>\n",
              "      <td>23220030</td>\n",
              "      <td>0</td>\n",
              "      <td>0.00000</td>\n",
              "      <td>-0.003332</td>\n",
              "      <td>-0.000000</td>\n",
              "      <td>1.066416e+08</td>\n",
              "      <td>0.217739</td>\n",
              "      <td>1</td>\n",
              "      <td>0.522477</td>\n",
              "      <td>1.913959</td>\n",
              "    </tr>\n",
              "    <tr>\n",
              "      <th>1</th>\n",
              "      <td>1984-09-10</td>\n",
              "      <td>0.42388</td>\n",
              "      <td>0.42516</td>\n",
              "      <td>0.41366</td>\n",
              "      <td>0.42134</td>\n",
              "      <td>18022532</td>\n",
              "      <td>0</td>\n",
              "      <td>-0.00254</td>\n",
              "      <td>-0.003332</td>\n",
              "      <td>0.762276</td>\n",
              "      <td>1.066416e+08</td>\n",
              "      <td>0.169001</td>\n",
              "      <td>0</td>\n",
              "      <td>0.522477</td>\n",
              "      <td>0.000000</td>\n",
              "    </tr>\n",
              "    <tr>\n",
              "      <th>2</th>\n",
              "      <td>1984-09-11</td>\n",
              "      <td>0.42516</td>\n",
              "      <td>0.43668</td>\n",
              "      <td>0.42516</td>\n",
              "      <td>0.42902</td>\n",
              "      <td>42498199</td>\n",
              "      <td>0</td>\n",
              "      <td>0.00386</td>\n",
              "      <td>-0.003332</td>\n",
              "      <td>-1.158420</td>\n",
              "      <td>1.066416e+08</td>\n",
              "      <td>0.398514</td>\n",
              "      <td>1</td>\n",
              "      <td>0.522477</td>\n",
              "      <td>1.913959</td>\n",
              "    </tr>\n",
              "    <tr>\n",
              "      <th>3</th>\n",
              "      <td>1984-09-12</td>\n",
              "      <td>0.42902</td>\n",
              "      <td>0.43157</td>\n",
              "      <td>0.41618</td>\n",
              "      <td>0.41618</td>\n",
              "      <td>37125801</td>\n",
              "      <td>0</td>\n",
              "      <td>-0.01284</td>\n",
              "      <td>-0.003332</td>\n",
              "      <td>3.853397</td>\n",
              "      <td>1.066416e+08</td>\n",
              "      <td>0.348136</td>\n",
              "      <td>0</td>\n",
              "      <td>0.522477</td>\n",
              "      <td>0.000000</td>\n",
              "    </tr>\n",
              "    <tr>\n",
              "      <th>4</th>\n",
              "      <td>1984-09-13</td>\n",
              "      <td>0.43927</td>\n",
              "      <td>0.44052</td>\n",
              "      <td>0.43927</td>\n",
              "      <td>0.43927</td>\n",
              "      <td>57822062</td>\n",
              "      <td>0</td>\n",
              "      <td>0.00000</td>\n",
              "      <td>-0.003332</td>\n",
              "      <td>-0.000000</td>\n",
              "      <td>1.066416e+08</td>\n",
              "      <td>0.542209</td>\n",
              "      <td>1</td>\n",
              "      <td>0.522477</td>\n",
              "      <td>1.913959</td>\n",
              "    </tr>\n",
              "  </tbody>\n",
              "</table>\n",
              "</div>"
            ],
            "text/plain": [
              "         Date     Open  ...  population_success  relative_success\n",
              "0  1984-09-07  0.42388  ...            0.522477          1.913959\n",
              "1  1984-09-10  0.42388  ...            0.522477          0.000000\n",
              "2  1984-09-11  0.42516  ...            0.522477          1.913959\n",
              "3  1984-09-12  0.42902  ...            0.522477          0.000000\n",
              "4  1984-09-13  0.43927  ...            0.522477          1.913959\n",
              "\n",
              "[5 rows x 15 columns]"
            ]
          },
          "metadata": {
            "tags": []
          },
          "execution_count": 50
        }
      ]
    },
    {
      "cell_type": "markdown",
      "metadata": {
        "id": "dPm8nmcMZU7q",
        "colab_type": "text"
      },
      "source": [
        "#**Conclusion:**\n",
        "##Could not find a way to apply the Breeder's Equation to Stock Market Data. There just isn't much data or characteristics of data to come up with a meaningful **trait** or meaningful **relative fitness**.\n",
        "##Next I will try to see if the Breeder's Equation can be applied to Housing Market Data, and see if the Evolution of Housing Prices can be predicted."
      ]
    }
  ]
}